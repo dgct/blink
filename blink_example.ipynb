{
 "cells": [
  {
   "cell_type": "code",
   "execution_count": 26,
   "id": "7d0a96e3",
   "metadata": {},
   "outputs": [],
   "source": [
    "import blink\n",
    "import numpy as np"
   ]
  },
  {
   "cell_type": "code",
   "execution_count": 66,
   "id": "7a6d0e8d",
   "metadata": {},
   "outputs": [],
   "source": [
    "a = np.random.rand()*2\n",
    "b = np.random.rand()*3"
   ]
  },
  {
   "cell_type": "code",
   "execution_count": 67,
   "id": "4319b870",
   "metadata": {},
   "outputs": [],
   "source": [
    "mz = [[0,.5,1],[a, a+.5, a+1, a+2], [b, b+.5, b+1, b+1.5, b+2]]\n",
    "i = [[3,2,1],[4, 2, 3, 1], [5, 3, 4, 1, 2]]"
   ]
  },
  {
   "cell_type": "code",
   "execution_count": 68,
   "id": "1ac81952",
   "metadata": {},
   "outputs": [
    {
     "data": {
      "text/plain": [
       "array([[  0.35714286, -18.5323773 ,          nan],\n",
       "       [-17.49650575,  -2.75      ,          nan],\n",
       "       [         nan,          nan,          nan]])"
      ]
     },
     "execution_count": 68,
     "metadata": {},
     "output_type": "execute_result"
    }
   ],
   "source": [
    "from importlib import reload\n",
    "reload(blink)\n",
    "S = blink.vector(\n",
    "        x=np.concatenate([[i]*len(m) for i,m in enumerate(mz)]),\n",
    "        y=np.concatenate(mz),\n",
    "        data=np.concatenate(i),\n",
    "        y_tolerance=.5)\n",
    "\n",
    "S = S.norm()\n",
    "    \n",
    "(S @ S.T).toarray()"
   ]
  },
  {
   "cell_type": "code",
   "execution_count": 69,
   "id": "3add06b8",
   "metadata": {},
   "outputs": [],
   "source": [
    "S.save('./test.npz')"
   ]
  },
  {
   "cell_type": "code",
   "execution_count": 70,
   "id": "790912db",
   "metadata": {},
   "outputs": [],
   "source": [
    "T = blink.load('./test.npz')"
   ]
  },
  {
   "cell_type": "code",
   "execution_count": 72,
   "id": "f09f36fb",
   "metadata": {},
   "outputs": [
    {
     "data": {
      "text/plain": [
       "array([0.26726124, 0.53452248, 0.80178373, 0.5       , 1.5       ,\n",
       "       1.        , 2.        ,        nan,        nan,        nan,\n",
       "              nan,        nan])"
      ]
     },
     "execution_count": 72,
     "metadata": {},
     "output_type": "execute_result"
    }
   ],
   "source": [
    "S.data"
   ]
  },
  {
   "cell_type": "code",
   "execution_count": null,
   "id": "1b9a253c",
   "metadata": {},
   "outputs": [],
   "source": []
  }
 ],
 "metadata": {
  "kernelspec": {
   "display_name": "Python 3 (ipykernel)",
   "language": "python",
   "name": "python3"
  },
  "language_info": {
   "codemirror_mode": {
    "name": "ipython",
    "version": 3
   },
   "file_extension": ".py",
   "mimetype": "text/x-python",
   "name": "python",
   "nbconvert_exporter": "python",
   "pygments_lexer": "ipython3",
   "version": "3.9.12"
  }
 },
 "nbformat": 4,
 "nbformat_minor": 5
}
