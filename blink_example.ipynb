{
 "cells": [
  {
   "cell_type": "code",
   "execution_count": 1,
   "id": "7d0a96e3",
   "metadata": {},
   "outputs": [],
   "source": [
    "import blink\n",
    "import numpy as np"
   ]
  },
  {
   "cell_type": "code",
   "execution_count": 2,
   "id": "7a6d0e8d",
   "metadata": {},
   "outputs": [],
   "source": [
    "a = np.random.rand()*2\n",
    "b = np.random.rand()*3"
   ]
  },
  {
   "cell_type": "code",
   "execution_count": 3,
   "id": "4319b870",
   "metadata": {},
   "outputs": [],
   "source": [
    "mz = [[0,.5,1],[a, a+.5, a+1, a+2], [b, b+.5, b+1, b+1.5, b+2]]\n",
    "i = [[3,2,1],[4, 2, 3, 1], [5, 3, 4, 1, 2]]"
   ]
  },
  {
   "cell_type": "code",
   "execution_count": 4,
   "id": "1ac81952",
   "metadata": {},
   "outputs": [
    {
     "data": {
      "text/plain": [
       "array([[1.        , 0.81662505, 0.47413537],\n",
       "       [0.81662505, 1.        , 1.13230567],\n",
       "       [0.47413537, 1.13230567, 1.        ]])"
      ]
     },
     "execution_count": 4,
     "metadata": {},
     "output_type": "execute_result"
    }
   ],
   "source": [
    "from importlib import reload\n",
    "reload(blink)\n",
    "S = blink.vector(\n",
    "        y=mz,\n",
    "        data=i,\n",
    "        y_tolerance=.5)\n",
    "\n",
    "S = S.norm()\n",
    "    \n",
    "(S @ S.T).toarray()"
   ]
  },
  {
   "cell_type": "code",
   "execution_count": 5,
   "id": "3add06b8",
   "metadata": {},
   "outputs": [],
   "source": [
    "S.save('./test.npz')"
   ]
  },
  {
   "cell_type": "code",
   "execution_count": 6,
   "id": "790912db",
   "metadata": {},
   "outputs": [],
   "source": [
    "T = blink.load('./test.npz')"
   ]
  },
  {
   "cell_type": "code",
   "execution_count": 7,
   "id": "f09f36fb",
   "metadata": {},
   "outputs": [
    {
     "data": {
      "text/plain": [
       "True"
      ]
     },
     "execution_count": 7,
     "metadata": {},
     "output_type": "execute_result"
    }
   ],
   "source": [
    "S == T"
   ]
  },
  {
   "cell_type": "code",
   "execution_count": null,
   "id": "1b9a253c",
   "metadata": {},
   "outputs": [],
   "source": []
  }
 ],
 "metadata": {
  "kernelspec": {
   "display_name": "Python 3 (ipykernel)",
   "language": "python",
   "name": "python3"
  },
  "language_info": {
   "codemirror_mode": {
    "name": "ipython",
    "version": 3
   },
   "file_extension": ".py",
   "mimetype": "text/x-python",
   "name": "python",
   "nbconvert_exporter": "python",
   "pygments_lexer": "ipython3",
   "version": "3.9.13"
  }
 },
 "nbformat": 4,
 "nbformat_minor": 5
}
