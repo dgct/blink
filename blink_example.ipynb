{
 "cells": [
  {
   "cell_type": "code",
   "execution_count": 1,
   "id": "7d0a96e3",
   "metadata": {},
   "outputs": [],
   "source": [
    "import blink\n",
    "import numpy as np"
   ]
  },
  {
   "cell_type": "code",
   "execution_count": 2,
   "id": "a8d66b42",
   "metadata": {},
   "outputs": [],
   "source": [
    "a = np.random.rand()*10\n",
    "b = np.random.rand()*100"
   ]
  },
  {
   "cell_type": "code",
   "execution_count": 3,
   "id": "4319b870",
   "metadata": {},
   "outputs": [],
   "source": [
    "mz = [[0,.5,1],[a, a+.5, a+1, a+2], [b, b+.5, b+1, b+1.5, b+2]]\n",
    "i = [[3,2,1],[4, 2, 3, 1], [5, 3, 4, 1, 2]]"
   ]
  },
  {
   "cell_type": "code",
   "execution_count": 4,
   "id": "1ac81952",
   "metadata": {},
   "outputs": [
    {
     "data": {
      "text/plain": [
       "array([[1., 0., 0.],\n",
       "       [0., 1., 0.],\n",
       "       [0., 0., 1.]])"
      ]
     },
     "execution_count": 4,
     "metadata": {},
     "output_type": "execute_result"
    }
   ],
   "source": [
    "S = blink.vector(\n",
    "        x=np.concatenate([[i]*len(m) for i,m in enumerate(mz)]),\n",
    "        y=np.concatenate(mz),\n",
    "        data=np.concatenate(i),\n",
    "        y_tolerance=.5)\n",
    "    \n",
    "S.score(S,norm=True).toarray()"
   ]
  },
  {
   "cell_type": "code",
   "execution_count": null,
   "id": "d0091774",
   "metadata": {},
   "outputs": [],
   "source": []
  }
 ],
 "metadata": {
  "kernelspec": {
   "display_name": "Python 3 (ipykernel)",
   "language": "python",
   "name": "python3"
  },
  "language_info": {
   "codemirror_mode": {
    "name": "ipython",
    "version": 3
   },
   "file_extension": ".py",
   "mimetype": "text/x-python",
   "name": "python",
   "nbconvert_exporter": "python",
   "pygments_lexer": "ipython3",
   "version": "3.9.12"
  }
 },
 "nbformat": 4,
 "nbformat_minor": 5
}
